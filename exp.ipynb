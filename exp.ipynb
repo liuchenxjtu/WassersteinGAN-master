{
 "cells": [
  {
   "cell_type": "code",
   "execution_count": 1,
   "metadata": {
    "collapsed": false
   },
   "outputs": [
    {
     "name": "stdout",
     "output_type": "stream",
     "text": [
      "Namespace(Diters=5, adam=False, batchSize=128, beta1=0.5, clamp_lower=-0.01, clamp_upper=0.01, cuda=True, experiment=None, lrD=5e-05, lrG=5e-05, mlp_D=True, mlp_G=True, nSize=148, n_extra_layers=0, ndf=64, neg_data='/storage03/user_data/liuchen01/creds/train_pos.dat', netD='', netG='', netP='samples/netD_epoch_24.pth', ngf=64, ngpu=1, niter=25, noBN=False, nz=148, pos_data='/storage03/user_data/liuchen01/creds/train_neg.dat', test_data='/storage03/user_data/liuchen01/creds/test_feature.dat', test_label='/storage03/user_data/liuchen01/creds/test_labels.dat', workers=2)\n",
      "Random Seed:  8101\n"
     ]
    }
   ],
   "source": [
    "from __future__ import print_function\n",
    "import argparse\n",
    "import random\n",
    "import torch\n",
    "import torch.nn as nn\n",
    "import torch.nn.parallel\n",
    "import torch.backends.cudnn as cudnn\n",
    "import torch.optim as optim\n",
    "import torch.utils.data\n",
    "import torchvision.datasets as dset\n",
    "import torchvision.transforms as transforms\n",
    "import torchvision.utils as vutils\n",
    "from torch.autograd import Variable\n",
    "import os\n",
    "from dataset import DatasetFromPandas\n",
    "import models.dcgan as dcgan\n",
    "import models.mlp as mlp\n",
    "\n",
    "import pandas as pd\n",
    "from sklearn import metrics\n",
    "from sklearn.metrics import confusion_matrix\n",
    "\n",
    "parser = argparse.ArgumentParser()\n",
    "parser.add_argument('--pos_data', default='/storage03/user_data/liuchen01/creds/train_neg.dat', help='path to dataset')\n",
    "parser.add_argument('--neg_data', default='/storage03/user_data/liuchen01/creds/train_pos.dat', help='path to dataset')\n",
    "parser.add_argument('--test_data', default='/storage03/user_data/liuchen01/creds/test_feature.dat', help='path to dataset')\n",
    "parser.add_argument('--test_label', default='/storage03/user_data/liuchen01/creds/test_labels.dat', help='path to dataset')\n",
    "parser.add_argument('--workers', type=int, help='number of data loading workers', default=2)\n",
    "parser.add_argument('--batchSize', type=int, default=128, help='input batch size')\n",
    "parser.add_argument('--nSize', type=int, default=148, help='noise size')\n",
    "parser.add_argument('--nz', type=int, default=148, help='size of the latent z vector')\n",
    "parser.add_argument('--ngf', type=int, default=64)\n",
    "parser.add_argument('--ndf', type=int, default=64)\n",
    "parser.add_argument('--niter', type=int, default=25, help='number of epochs to train for')\n",
    "parser.add_argument('--lrD', type=float, default=0.00005, help='learning rate for Critic, default=0.00005')\n",
    "parser.add_argument('--lrG', type=float, default=0.00005, help='learning rate for Generator, default=0.00005')\n",
    "parser.add_argument('--beta1', type=float, default=0.5, help='beta1 for adam. default=0.5')\n",
    "parser.add_argument('--cuda'  , action='store_true',default=True, help='enables cuda')\n",
    "parser.add_argument('--ngpu'  , type=int, default=1, help='number of GPUs to use')\n",
    "parser.add_argument('--netG', default='', help=\"path to netG (to continue training)\")\n",
    "parser.add_argument('--netD', default='', help=\"path to netD (to continue training)\")\n",
    "parser.add_argument('--netP', default='samples/netD_epoch_24.pth', help=\"path to netP (to continue training)\")\n",
    "parser.add_argument('--clamp_lower', type=float, default=-0.01)\n",
    "parser.add_argument('--clamp_upper', type=float, default=0.01)\n",
    "parser.add_argument('--Diters', type=int, default=5, help='number of D iters per each G iter')\n",
    "parser.add_argument('--noBN', action='store_true', help='use batchnorm or not (only for DCGAN)')\n",
    "parser.add_argument('--mlp_G', action='store_true',default=True, help='use MLP for G')\n",
    "parser.add_argument('--mlp_D', action='store_true', default=True,help='use MLP for D')\n",
    "parser.add_argument('--n_extra_layers', type=int, default=0, help='Number of extra layers on gen and disc')\n",
    "parser.add_argument('--experiment', default=None, help='Where to store samples and models')\n",
    "parser.add_argument('--adam', action='store_true', help='Whether to use adam (default is rmsprop)')\n",
    "opt, unknown = parser.parse_known_args()\n",
    "print(opt)\n",
    "\n",
    "\n",
    "if opt.experiment is None:\n",
    "    opt.experiment = 'samples'\n",
    "os.system('mkdir {0}'.format(opt.experiment))\n",
    "\n",
    "opt.manualSeed = random.randint(1, 10000) # fix seed\n",
    "print(\"Random Seed: \", opt.manualSeed)\n",
    "random.seed(opt.manualSeed)\n",
    "torch.manual_seed(opt.manualSeed)\n",
    "\n",
    "cudnn.benchmark = True\n",
    "\n",
    "if torch.cuda.is_available() and not opt.cuda:\n",
    "    print(\"WARNING: You have a CUDA device, so you should probably run with --cuda\")\n",
    "\n",
    "\n"
   ]
  },
  {
   "cell_type": "code",
   "execution_count": 2,
   "metadata": {
    "collapsed": false
   },
   "outputs": [
    {
     "name": "stdout",
     "output_type": "stream",
     "text": [
      "MLP_G (\n",
      "  (main): Sequential (\n",
      "    (0): Linear (148 -> 64)\n",
      "    (1): ReLU (inplace)\n",
      "    (2): Linear (64 -> 64)\n",
      "    (3): ReLU (inplace)\n",
      "    (4): Linear (64 -> 64)\n",
      "    (5): ReLU (inplace)\n",
      "    (6): Linear (64 -> 148)\n",
      "  )\n",
      ")\n",
      "MLP_D (\n",
      "  (main): Sequential (\n",
      "    (0): Linear (148 -> 64)\n",
      "    (1): ReLU (inplace)\n",
      "    (2): Linear (64 -> 64)\n",
      "    (3): ReLU (inplace)\n",
      "    (4): Linear (64 -> 64)\n",
      "    (5): ReLU (inplace)\n",
      "    (6): Linear (64 -> 1)\n",
      "  )\n",
      ")\n"
     ]
    }
   ],
   "source": [
    "pos_data = DatasetFromPandas(opt.pos_data)\n",
    "\n",
    "neg_data = DatasetFromPandas(opt.neg_data)\n",
    "\n",
    "dataloader = torch.utils.data.DataLoader(pos_data, batch_size=opt.batchSize,\n",
    "                                         shuffle=True, num_workers=int(opt.workers))\n",
    "neg_dataloader = torch.utils.data.DataLoader(neg_data, batch_size=opt.batchSize,\n",
    "                                         shuffle=True, num_workers=int(opt.workers))\n",
    "\n",
    "ngpu = int(opt.ngpu)\n",
    "nSize = int(opt.nz)\n",
    "\n",
    "nz = int(opt.nz)\n",
    "nSize = int (opt.nSize)\n",
    "ngf = int(opt.ngf)\n",
    "ndf = int(opt.ndf)\n",
    "n_extra_layers = int(opt.n_extra_layers)\n",
    "\n",
    "# custom weights initialization called on netG and netD\n",
    "def weights_init(m):\n",
    "    classname = m.__class__.__name__\n",
    "    if classname.find('Conv') != -1:\n",
    "        m.weight.data.normal_(0.0, 0.02)\n",
    "    elif classname.find('BatchNorm') != -1:\n",
    "        m.weight.data.normal_(1.0, 0.02)\n",
    "        m.bias.data.fill_(0)\n",
    "\n",
    "if opt.noBN:\n",
    "    netG = dcgan.DCGAN_G_nobn(opt.imageSize, nz, nc, ngf, ngpu, n_extra_layers)\n",
    "elif opt.mlp_G:\n",
    "    netG = mlp.MLP_G(nSize, nz,  ngf, ngpu)\n",
    "else:\n",
    "    netG = dcgan.DCGAN_G(opt.imageSize, nz, nc, ngf, ngpu, n_extra_layers)\n",
    "\n",
    "netG.apply(weights_init)\n",
    "if opt.netG != '': # load checkpoint if needed\n",
    "    netG.load_state_dict(torch.load(opt.netG))\n",
    "print(netG)\n",
    "\n",
    "if opt.mlp_D:\n",
    "    netD = mlp.MLP_D(opt.nSize,  ndf, ngpu)\n",
    "else:\n",
    "    netD = dcgan.DCGAN_D(opt.imageSize, nz, nc, ndf, ngpu, n_extra_layers)\n",
    "    netD.apply(weights_init)\n",
    "if opt.netD != '':\n",
    "    netD.load_state_dict(torch.load(opt.netD))\n",
    "print(netD)\n",
    "\n",
    "# if opt.netP != '': # load checkpoint if needed\n",
    "#     netP.load_state_dict(torch.load(opt.netG))\n",
    "\n",
    "input = torch.FloatTensor(opt.batchSize, opt.nSize)\n",
    "noise = torch.FloatTensor(opt.batchSize, nz)\n",
    "# fixed_noise = torch.FloatTensor(opt.batchSize, nz, 1, 1).normal_(0, 1)\n",
    "one = torch.FloatTensor([1])\n",
    "mone = one *-1\n",
    "\n",
    "if opt.cuda:\n",
    "    netD.cuda()\n",
    "    netG.cuda()\n",
    "    input = input.cuda()\n",
    "    one, mone = one.cuda(), mone.cuda()\n",
    "    noise = noise.cuda()\n",
    "\n",
    "# setup optimizer\n",
    "if opt.adam:\n",
    "    optimizerD = optim.Adam(netD.parameters(), lr=opt.lrD, betas=(opt.beta1, 0.999))\n",
    "    optimizerG = optim.Adam(netG.parameters(), lr=opt.lrG, betas=(opt.beta1, 0.999))\n",
    "else:\n",
    "    optimizerD = optim.RMSprop(netD.parameters(), lr = opt.lrD)\n",
    "    optimizerG = optim.RMSprop(netG.parameters(), lr = opt.lrG)\n",
    "\n"
   ]
  },
  {
   "cell_type": "code",
   "execution_count": 3,
   "metadata": {
    "collapsed": true
   },
   "outputs": [],
   "source": [
    "test = DatasetFromPandas(opt.test_data)\n",
    "labels = list(pd.read_csv(opt.test_label,header=None)[0])\n"
   ]
  },
  {
   "cell_type": "code",
   "execution_count": 4,
   "metadata": {
    "collapsed": false
   },
   "outputs": [
    {
     "name": "stdout",
     "output_type": "stream",
     "text": [
      "[0/25][1662/1662][17] Loss_D: -0.007071 Loss_G: 0.010822 Loss_D_real: 0.003994 Loss_D_fake 0.011065\n",
      "[ 0.00376512] [ 0.00356705]\n",
      "[ 0.01083565] [ 0.01080563]\n",
      "[ 0.01083926] [ 0.01079231]\n",
      "[ 0.00498441] [ 0.003563] 205608\n",
      "[1/25][1662/1662][198] Loss_D: -0.007050 Loss_G: 0.010568 Loss_D_real: 0.003763 Loss_D_fake 0.010813\n",
      "[ 0.00354574] [ 0.00329881]\n",
      "[ 0.01058942] [ 0.01054824]\n",
      "[ 0.01058221] [ 0.01055007]\n",
      "[ 0.00475045] [ 0.00329779] 205608\n",
      "[2/25][1662/1662][512] Loss_D: -0.007056 Loss_G: 0.010297 Loss_D_real: 0.003484 Loss_D_fake 0.010540\n",
      "[ 0.00328259] [ 0.00302586]\n",
      "[ 0.01031031] [ 0.01027678]\n",
      "[ 0.01031187] [ 0.01027666]\n",
      "[ 0.00448718] [ 0.00302522] 205608\n",
      "[3/25][1662/1662][845] Loss_D: -0.007059 Loss_G: 0.010026 Loss_D_real: 0.003210 Loss_D_fake 0.010269\n",
      "[ 0.00304188] [ 0.00275412]\n",
      "[ 0.01004448] [ 0.01001108]\n",
      "[ 0.01003973] [ 0.01000707]\n",
      "[ 0.00421251] [ 0.00274947] 205608\n",
      "[4/25][1662/1662][1159] Loss_D: -0.007073 Loss_G: 0.009754 Loss_D_real: 0.002926 Loss_D_fake 0.009998\n",
      "[ 0.00276213] [ 0.00248216]\n",
      "[ 0.00976987] [ 0.00973694]\n",
      "[ 0.00977183] [ 0.00973503]\n",
      "[ 0.00393533] [ 0.00247856] 205608\n",
      "[5/25][1662/1662][1492] Loss_D: -0.007038 Loss_G: 0.009482 Loss_D_real: 0.002689 Loss_D_fake 0.009727\n",
      "[ 0.00251218] [ 0.00221001]\n",
      "[ 0.00949493] [ 0.00945908]\n",
      "[ 0.00949423] [ 0.00946572]\n",
      "[ 0.00367236] [ 0.00220236] 205608\n",
      "[6/25][1662/1662][1806] Loss_D: -0.007046 Loss_G: 0.009211 Loss_D_real: 0.002408 Loss_D_fake 0.009455\n",
      "[ 0.00217404] [ 0.00194202]\n",
      "[ 0.00923186] [ 0.00919674]\n",
      "[ 0.00922557] [ 0.00918521]\n",
      "[ 0.00347245] [ 0.00193174] 205608\n",
      "[7/25][1662/1662][2120] Loss_D: -0.007072 Loss_G: 0.008940 Loss_D_real: 0.002109 Loss_D_fake 0.009181\n",
      "[ 0.00194928] [ 0.00166833]\n",
      "[ 0.00895562] [ 0.0089248]\n",
      "[ 0.00895458] [ 0.00892695]\n",
      "[ 0.0031429] [ 0.00166475] 205608\n",
      "[8/25][1662/1662][2453] Loss_D: -0.007080 Loss_G: 0.008667 Loss_D_real: 0.001831 Loss_D_fake 0.008911\n",
      "[ 0.0016169] [ 0.0013945]\n",
      "[ 0.00868221] [ 0.00865166]\n",
      "[ 0.00868171] [ 0.00865387]\n",
      "[ 0.00291709] [ 0.00138955] 205608\n",
      "[9/25][1662/1662][2767] Loss_D: -0.007066 Loss_G: 0.008395 Loss_D_real: 0.001573 Loss_D_fake 0.008639\n",
      "[ 0.0013695] [ 0.0011195]\n",
      "[ 0.00840805] [ 0.00837159]\n",
      "[ 0.00840888] [ 0.00837586]\n",
      "[ 0.00263175] [ 0.00111757] 205608\n"
     ]
    }
   ],
   "source": [
    "gen_iterations = 0\n",
    "for epoch in range(10):\n",
    "    data_iter = iter(dataloader)\n",
    "    neg_iter = iter(neg_dataloader)\n",
    "\n",
    "    i = 0\n",
    "    while i < len(dataloader):\n",
    "        ############################\n",
    "        # (1) Update D network\n",
    "        ###########################\n",
    "        for p in netD.parameters(): # reset requires_grad\n",
    "            p.requires_grad = True # they are set to False below in netG update\n",
    "\n",
    "        # train the discriminator Diters times\n",
    "        if gen_iterations < 25 or gen_iterations % 500 == 0:\n",
    "            Diters = 100\n",
    "        else:\n",
    "            Diters = opt.Diters\n",
    "        j = 0\n",
    "        while j < Diters and i < len(dataloader):\n",
    "            j += 1\n",
    "            # clamp parameters to a cube\n",
    "            for p in netD.parameters():\n",
    "                p.data.clamp_(opt.clamp_lower, opt.clamp_upper)\n",
    "\n",
    "            data = data_iter.next()\n",
    "            i += 1\n",
    "\n",
    "            # train with real\n",
    "            real_cpu = data\n",
    "            netD.zero_grad()\n",
    "            # batch_size = real_cpu.size(0)\n",
    "\n",
    "            if opt.cuda:\n",
    "                real_cpu = real_cpu.cuda()\n",
    "            input.resize_as_(real_cpu).copy_(real_cpu)\n",
    "            inputv = Variable(input)\n",
    "    \n",
    "            errD_real = netD(inputv)\n",
    "            errD_real.backward(one)\n",
    "\n",
    "            # train with fake\n",
    "            try:\n",
    "                noise = neg_iter.next()\n",
    "#                 print (noise.size())\n",
    "            except:\n",
    "                neg_iter = iter(neg_dataloader)\n",
    "                noise = neg_iter.next()\n",
    "#             noise.resize_(opt.batchSize, nz).normal_(0, 1)\n",
    "\n",
    "            if opt.cuda:\n",
    "                noise = noise.cuda()\n",
    "            noisev = Variable(noise, volatile = True) # totally freeze netG\n",
    "            fake = Variable(netG(noisev).data)\n",
    "#             inputv = fake\n",
    "            errD_fake = netD(fake)\n",
    "            print \n",
    "            errD_fake.backward(mone)\n",
    "            errD = errD_real - errD_fake\n",
    "            optimizerD.step()\n",
    "\n",
    "        ############################\n",
    "        # (2) Update G network\n",
    "        ###########################\n",
    "        for p in netD.parameters():\n",
    "            p.requires_grad = False # to avoid computation\n",
    "        netG.zero_grad()\n",
    "        # in case our last batch was the tail batch of the dataloader,\n",
    "        # make sure we feed a full batch of noise\n",
    "        try:\n",
    "                noise = neg_iter.next()\n",
    "                \n",
    "        except:\n",
    "                neg_iter = iter(neg_dataloader)\n",
    "                noise = neg_iter.next()\n",
    "#         noise.resize_(opt.batchSize, nz).normal_(0, 1)\n",
    "\n",
    "        if opt.cuda:\n",
    "                noise = noise.cuda()\n",
    "        noisev = Variable(noise)\n",
    "        fake1 = netG(noisev)\n",
    "        errG = netD(fake1)\n",
    "\n",
    "#         errG.backward(one)\n",
    "        optimizerG.step()\n",
    "        gen_iterations += 1\n",
    "\n",
    "    print('[%d/%d][%d/%d][%d] Loss_D: %f Loss_G: %f Loss_D_real: %f Loss_D_fake %f'\n",
    "        % (epoch, opt.niter, i, len(dataloader), gen_iterations,\n",
    "        errD.data[0], errG.data[0], errD_real.data[0], errD_fake.data[0]))\n",
    "\n",
    "#     torch.save(netD.state_dict(), '{0}/netD_epoch_{1}.pth'.format(opt.experiment, epoch))\n",
    "    testdataloader = torch.utils.data.DataLoader(test, batch_size=len(test),\n",
    "                                         shuffle=False, num_workers=int(opt.workers))\n",
    "    testdataiter = iter(testdataloader)\n",
    "    if opt.cuda:\n",
    "        testv = Variable(testdataiter.next().cuda())\n",
    "    else:\n",
    "        testv = Variable(testdataiter.next())\n",
    "    netP = mlp.MLP_P(opt.nSize,  ndf, ngpu)\n",
    "#     netP.load_state_dict(torch.load('{0}/netD_epoch_{1}.pth'.format(opt.experiment, epoch)))\n",
    "\n",
    "    netP.load_state_dict(netD.state_dict())\n",
    "    if opt.cuda:\n",
    "        netP.cuda()\n",
    "    pred_probs = (netP((inputv)).cpu().data.numpy())\n",
    "    print (max(pred_probs),min(pred_probs))\n",
    "    pred_probs = (netP((fake)).cpu().data.numpy())\n",
    "    print (max(pred_probs),min(pred_probs))\n",
    "\n",
    "    pred_probs = (netP((fake1)).cpu().data.numpy())\n",
    "    print (max(pred_probs),min(pred_probs))\n",
    "    pred_probs = (netP((testv)).cpu().data.numpy())\n",
    "    print (max(pred_probs),min(pred_probs),len(pred_probs))\n",
    "#     pred_probs = (netP(netG(testv)).cpu().data.numpy())\n",
    "#     print (max(pred_probs),min(pred_probs),len(pred_probs))\n",
    "\n",
    "#     pred_probs = (pred_probs-min(pred_probs))/(max(pred_probs)-min(pred_probs))\n",
    "#     for i in range(0,10,2):\n",
    "#         pred = [1 if j>i/10.0 else 0 for j in pred_probs ]\n",
    "#         print (confusion_matrix(labels,pred))\n",
    "#         print (\"Accuracy, \",  metrics.accuracy_score(labels,pred))\n"
   ]
  },
  {
   "cell_type": "code",
   "execution_count": 5,
   "metadata": {
    "collapsed": false
   },
   "outputs": [],
   "source": [
    "pred_probs = (netP((testv)).cpu().data.numpy())\n"
   ]
  },
  {
   "cell_type": "code",
   "execution_count": 6,
   "metadata": {
    "collapsed": false
   },
   "outputs": [
    {
     "data": {
      "text/plain": [
       "(array([ 0.00263175], dtype=float32), array([ 0.00111757], dtype=float32))"
      ]
     },
     "execution_count": 6,
     "metadata": {},
     "output_type": "execute_result"
    }
   ],
   "source": [
    "max(pred_probs),min(pred_probs)"
   ]
  },
  {
   "cell_type": "code",
   "execution_count": 65,
   "metadata": {
    "collapsed": false
   },
   "outputs": [
    {
     "data": {
      "text/plain": [
       "1    190882\n",
       "0     14726\n",
       "dtype: int64"
      ]
     },
     "execution_count": 65,
     "metadata": {},
     "output_type": "execute_result"
    }
   ],
   "source": [
    "pd.Series([1 if j<=-0.009461942 else 0 for j in pred_probs ]).value_counts()"
   ]
  },
  {
   "cell_type": "code",
   "execution_count": 8,
   "metadata": {
    "collapsed": false
   },
   "outputs": [
    {
     "name": "stdout",
     "output_type": "stream",
     "text": [
      "[[ 12243  40915]\n",
      " [ 38198 114252]]\n",
      "Accuracy,  0.615224115793\n"
     ]
    }
   ],
   "source": [
    "pred = [1 if j<0.00131942 else 0 for j in pred_probs ]\n",
    "print (confusion_matrix(labels,pred))\n",
    "print (\"Accuracy, \",  metrics.accuracy_score(labels,pred))\n"
   ]
  },
  {
   "cell_type": "code",
   "execution_count": 9,
   "metadata": {
    "collapsed": false
   },
   "outputs": [
    {
     "name": "stdout",
     "output_type": "stream",
     "text": [
      "[[     1  53157]\n",
      " [     0 152450]]\n",
      "Accuracy,  0.741464339909\n",
      "[[ 49010   4148]\n",
      " [135217  17233]]\n",
      "Accuracy,  0.322181043539\n",
      "[[ 52342    816]\n",
      " [147776   4674]]\n",
      "Accuracy,  0.277304385043\n",
      "[[ 53077     81]\n",
      " [151530    920]]\n",
      "Accuracy,  0.262621104237\n",
      "[[ 53157      1]\n",
      " [152386     64]]\n",
      "Accuracy,  0.258846932026\n"
     ]
    }
   ],
   "source": [
    "    pred_probs = (pred_probs-min(pred_probs))/(max(pred_probs)-min(pred_probs))\n",
    "    for i in range(0,10,2):\n",
    "        pred = [1 if j>i/10.0 else 0 for j in pred_probs ]\n",
    "        print (confusion_matrix(labels,pred))\n",
    "        print (\"Accuracy, \",  metrics.accuracy_score(labels,pred))\n"
   ]
  },
  {
   "cell_type": "code",
   "execution_count": 4,
   "metadata": {
    "collapsed": false
   },
   "outputs": [],
   "source": [
    "testdataloader = torch.utils.data.DataLoader(test, batch_size=len(test),\n",
    "                                         shuffle=False, num_workers=int(opt.workers))\n"
   ]
  },
  {
   "cell_type": "code",
   "execution_count": 5,
   "metadata": {
    "collapsed": true
   },
   "outputs": [],
   "source": [
    "testdataiter = iter(testdataloader)"
   ]
  },
  {
   "cell_type": "code",
   "execution_count": 6,
   "metadata": {
    "collapsed": false
   },
   "outputs": [],
   "source": [
    "testv = Variable(testdataiter.next())"
   ]
  },
  {
   "cell_type": "code",
   "execution_count": 7,
   "metadata": {
    "collapsed": false
   },
   "outputs": [
    {
     "data": {
      "text/plain": [
       "torch.Size([205608, 148])"
      ]
     },
     "execution_count": 7,
     "metadata": {},
     "output_type": "execute_result"
    }
   ],
   "source": [
    "testv.data.size()"
   ]
  },
  {
   "cell_type": "code",
   "execution_count": null,
   "metadata": {
    "collapsed": true
   },
   "outputs": [],
   "source": []
  },
  {
   "cell_type": "code",
   "execution_count": 11,
   "metadata": {
    "collapsed": false
   },
   "outputs": [],
   "source": [
    "netP = mlp.MLP_P(opt.nSize,  ndf, ngpu)\n",
    "netP.load_state_dict(torch.load('{0}/netD_epoch_{1}.pth'.format(opt.experiment, 0)))"
   ]
  },
  {
   "cell_type": "code",
   "execution_count": 38,
   "metadata": {
    "collapsed": true
   },
   "outputs": [],
   "source": [
    "pred_probs = (netP(netG(testv)).data.numpy())\n"
   ]
  },
  {
   "cell_type": "code",
   "execution_count": 41,
   "metadata": {
    "collapsed": false
   },
   "outputs": [
    {
     "data": {
      "text/plain": [
       "(array([ 1.], dtype=float32), array([ 0.], dtype=float32))"
      ]
     },
     "execution_count": 41,
     "metadata": {},
     "output_type": "execute_result"
    }
   ],
   "source": [
    "max(pred_probs),min(pred_probs)"
   ]
  },
  {
   "cell_type": "code",
   "execution_count": 40,
   "metadata": {
    "collapsed": false
   },
   "outputs": [],
   "source": [
    "    pred_probs = (pred_probs-min(pred_probs))/(max(pred_probs)-min(pred_probs))\n"
   ]
  },
  {
   "cell_type": "code",
   "execution_count": 32,
   "metadata": {
    "collapsed": true
   },
   "outputs": [],
   "source": []
  },
  {
   "cell_type": "code",
   "execution_count": 42,
   "metadata": {
    "collapsed": false
   },
   "outputs": [
    {
     "name": "stdout",
     "output_type": "stream",
     "text": [
      "[[     0  53158]\n",
      " [     1 152449]]\n",
      "Accuracy,  0.741454612661\n",
      "[[    10  53148]\n",
      " [    29 152421]]\n",
      "Accuracy,  0.741367067429\n",
      "[[   193  52965]\n",
      " [   598 151852]]\n",
      "Accuracy,  0.739489708572\n",
      "[[  1693  51465]\n",
      " [  4824 147626]]\n",
      "Accuracy,  0.726231469593\n",
      "[[  7591  45567]\n",
      " [ 19759 132691]]\n",
      "Accuracy,  0.682278899654\n",
      "[[20295 32863]\n",
      " [52989 99461]]\n",
      "Accuracy,  0.582448153768\n",
      "[[ 37613  15545]\n",
      " [101433  51017]]\n",
      "Accuracy,  0.431062993658\n",
      "[[ 49490   3668]\n",
      " [138630  13820]]\n",
      "Accuracy,  0.307916034396\n",
      "[[ 52770    388]\n",
      " [150805   1645]]\n",
      "Accuracy,  0.264654099062\n",
      "[[ 53144     14]\n",
      " [152369     81]]\n",
      "Accuracy,  0.258866386522\n"
     ]
    }
   ],
   "source": [
    "for i in range(0,10,1):\n",
    "    pred = [1 if j>i/10.0 else 0 for j in pred_probs ]\n",
    "    print (confusion_matrix(labels,pred))\n",
    "    print (\"Accuracy, \",  metrics.accuracy_score(labels,pred))\n"
   ]
  },
  {
   "cell_type": "code",
   "execution_count": 37,
   "metadata": {
    "collapsed": false
   },
   "outputs": [
    {
     "name": "stdout",
     "output_type": "stream",
     "text": [
      "[[ 53158      0]\n",
      " [152449      1]]\n",
      "Accuracy,  0.258545387339\n",
      "[[ 33422  19736]\n",
      " [105121  47329]]\n",
      "Accuracy,  0.392742500292\n",
      "[[20374 32784]\n",
      " [66066 86384]]\n",
      "Accuracy,  0.519230769231\n",
      "[[  9657  43501]\n",
      " [ 33499 118951]]\n",
      "Accuracy,  0.62550095327\n",
      "[[  3441  49717]\n",
      " [ 13522 138928]]\n",
      "Accuracy,  0.692429282907\n",
      "[[   945  52213]\n",
      " [  4450 148000]]\n",
      "Accuracy,  0.724412474223\n",
      "[[   201  52957]\n",
      " [  1237 151213]]\n",
      "Accuracy,  0.736420761838\n",
      "[[    42  53116]\n",
      " [   271 152179]]\n",
      "Accuracy,  0.740345706393\n",
      "[[     8  53150]\n",
      " [    49 152401]]\n",
      "Accuracy,  0.741260067702\n",
      "[[     1  53157]\n",
      " [     5 152445]]\n",
      "Accuracy,  0.741440021789\n"
     ]
    }
   ],
   "source": [
    "for i in range(0,10,1):\n",
    "    pred = [0 if j>i/10.0 else 1 for j in pred_probs ]\n",
    "    print (confusion_matrix(labels,pred))\n",
    "    print (\"Accuracy, \",  metrics.accuracy_score(labels,pred))\n"
   ]
  },
  {
   "cell_type": "code",
   "execution_count": null,
   "metadata": {
    "collapsed": true
   },
   "outputs": [],
   "source": []
  }
 ],
 "metadata": {
  "kernelspec": {
   "display_name": "Python 2",
   "language": "python",
   "name": "python2"
  },
  "language_info": {
   "codemirror_mode": {
    "name": "ipython",
    "version": 2
   },
   "file_extension": ".py",
   "mimetype": "text/x-python",
   "name": "python",
   "nbconvert_exporter": "python",
   "pygments_lexer": "ipython2",
   "version": "2.7.6"
  }
 },
 "nbformat": 4,
 "nbformat_minor": 2
}
